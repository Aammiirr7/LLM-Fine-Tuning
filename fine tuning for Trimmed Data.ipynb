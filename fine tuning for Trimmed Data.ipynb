{
 "cells": [
  {
   "cell_type": "code",
   "execution_count": 2,
   "id": "c072e49f",
   "metadata": {},
   "outputs": [
    {
     "data": {
      "text/plain": [
       "Index(['Company Name', 'Category', 'Sub Cat', 'Period',\n",
       "       ' Value - Randomized '],\n",
       "      dtype='object')"
      ]
     },
     "execution_count": 2,
     "metadata": {},
     "output_type": "execute_result"
    }
   ],
   "source": [
    "import torch\n",
    "from transformers import GPT2LMHeadModel, GPT2Tokenizer\n",
    "from transformers import TextDataset, DataCollatorForLanguageModeling\n",
    "from transformers import Trainer, TrainingArguments\n",
    "import pandas as pd\n",
    "\n",
    "# Load pre-trained model and tokenizer with a different size\n",
    "model_name = \"gpt2-medium\"\n",
    "model = GPT2LMHeadModel.from_pretrained(model_name)\n",
    "tokenizer = GPT2Tokenizer.from_pretrained(model_name)\n",
    "\n",
    "# Load and preprocess the training data from a CSV file\n",
    "csv_file = r\"C:\\Users\\inevi\\Downloads\\LLM-Sample-Input-File(upd).csv\"\n",
    "df = pd.read_csv(csv_file)\n",
    "\n",
    "df.columns"
   ]
  },
  {
   "cell_type": "code",
   "execution_count": 6,
   "id": "63ad1317",
   "metadata": {},
   "outputs": [
    {
     "name": "stderr",
     "output_type": "stream",
     "text": [
      "C:\\Users\\inevi\\anaconda3\\lib\\site-packages\\transformers\\data\\datasets\\language_modeling.py:53: FutureWarning: This dataset will be removed from the library soon, preprocessing should be handled with the 🤗 Datasets library. You can have a look at this example script for pointers: https://github.com/huggingface/transformers/blob/main/examples/pytorch/language-modeling/run_mlm.py\n",
      "  warnings.warn(\n"
     ]
    },
    {
     "data": {
      "text/html": [
       "\n",
       "    <div>\n",
       "      \n",
       "      <progress value='3' max='3' style='width:300px; height:20px; vertical-align: middle;'></progress>\n",
       "      [3/3 1:08:13, Epoch 3/3]\n",
       "    </div>\n",
       "    <table border=\"1\" class=\"dataframe\">\n",
       "  <thead>\n",
       " <tr style=\"text-align: left;\">\n",
       "      <th>Step</th>\n",
       "      <th>Training Loss</th>\n",
       "    </tr>\n",
       "  </thead>\n",
       "  <tbody>\n",
       "  </tbody>\n",
       "</table><p>"
      ],
      "text/plain": [
       "<IPython.core.display.HTML object>"
      ]
     },
     "metadata": {},
     "output_type": "display_data"
    },
    {
     "data": {
      "text/plain": [
       "('./fine-tuned-model\\\\tokenizer_config.json',\n",
       " './fine-tuned-model\\\\special_tokens_map.json',\n",
       " './fine-tuned-model\\\\vocab.json',\n",
       " './fine-tuned-model\\\\merges.txt',\n",
       " './fine-tuned-model\\\\added_tokens.json')"
      ]
     },
     "execution_count": 6,
     "metadata": {},
     "output_type": "execute_result"
    }
   ],
   "source": [
    "import torch\n",
    "from transformers import GPT2LMHeadModel, GPT2Tokenizer\n",
    "from transformers import TextDataset, DataCollatorForLanguageModeling\n",
    "from transformers import Trainer, TrainingArguments\n",
    "import pandas as pd\n",
    "\n",
    "# Load pre-trained model and tokenizer with a different size\n",
    "model_name = \"gpt2-medium\"\n",
    "model = GPT2LMHeadModel.from_pretrained(model_name)\n",
    "tokenizer = GPT2Tokenizer.from_pretrained(model_name)\n",
    "\n",
    "# Set eos_token as the padding token\n",
    "tokenizer.pad_token = tokenizer.eos_token\n",
    "\n",
    "# Load and preprocess the training data from a CSV file\n",
    "csv_file = r\"C:\\Users\\inevi\\Downloads\\LLM-Sample-Input-File(upd).csv\"\n",
    "df = pd.read_csv(csv_file)\n",
    "\n",
    "# Create a new text column by concatenating relevant columns\n",
    "df[\"your_text_column\"] = (\n",
    "    df[\"Company Name\"] + \" \" +\n",
    "    df[\"Category\"] + \" \" +\n",
    "    df[\"Sub Cat\"] + \" \" +\n",
    "    df[\"Period\"] + \" \" +\n",
    "    df[\" Value - Randomized \"].astype(str)\n",
    ")\n",
    "\n",
    "# Tokenize the text data in the DataFrame\n",
    "tokenized_data = tokenizer(df[\"your_text_column\"].tolist(), truncation=True, padding=True, max_length=256, return_tensors=\"pt\")\n",
    "\n",
    "# Fine-tune the model\n",
    "train_dataset = TextDataset(\n",
    "    tokenizer=tokenizer,\n",
    "    file_path=csv_file,  # Use the CSV file as the file_path\n",
    "    block_size=256\n",
    ")\n",
    "\n",
    "\n",
    "data_collator = DataCollatorForLanguageModeling(tokenizer=tokenizer, mlm=False)\n",
    "\n",
    "output_dir = \"./fine-tuned-model\"\n",
    "training_args = TrainingArguments(\n",
    "    output_dir=output_dir,\n",
    "    overwrite_output_dir=True,\n",
    "    num_train_epochs=3,\n",
    "    per_device_train_batch_size=8,  # Adjust batch size as needed\n",
    "    save_steps=10_000,\n",
    "    save_total_limit=2,\n",
    "    gradient_accumulation_steps=2,  # Adjust as needed\n",
    "    learning_rate=5e-5,  # Experiment with learning rate\n",
    ")\n",
    "\n",
    "trainer = Trainer(\n",
    "    model=model,\n",
    "    args=training_args,\n",
    "    data_collator=data_collator,\n",
    "    train_dataset=train_dataset,\n",
    ")\n",
    "trainer.train()\n",
    "\n",
    "# Save the fine-tuned model and tokenizer\n",
    "model.save_pretrained(output_dir)\n",
    "tokenizer.save_pretrained(output_dir)"
   ]
  },
  {
   "cell_type": "code",
   "execution_count": 8,
   "id": "116f0cd2",
   "metadata": {
    "scrolled": true
   },
   "outputs": [
    {
     "name": "stderr",
     "output_type": "stream",
     "text": [
      "C:\\Users\\inevi\\anaconda3\\lib\\site-packages\\transformers\\generation\\configuration_utils.py:381: UserWarning: `do_sample` is set to `False`. However, `temperature` is set to `0.7` -- this flag is only used in sample-based generation modes. You should set `do_sample=True` or unset `temperature`.\n",
      "  warnings.warn(\n",
      "C:\\Users\\inevi\\anaconda3\\lib\\site-packages\\transformers\\generation\\configuration_utils.py:386: UserWarning: `do_sample` is set to `False`. However, `top_p` is set to `0.95` -- this flag is only used in sample-based generation modes. You should set `do_sample=True` or unset `top_p`.\n",
      "  warnings.warn(\n",
      "The attention mask and the pad token id were not set. As a consequence, you may observe unexpected behavior. Please pass your input's `attention_mask` to obtain reliable results.\n",
      "Setting `pad_token_id` to `eos_token_id`:50256 for open-end generation.\n"
     ]
    },
    {
     "name": "stdout",
     "output_type": "stream",
     "text": [
      " 68,814,000,000 \n"
     ]
    },
    {
     "name": "stderr",
     "output_type": "stream",
     "text": [
      "C:\\Users\\inevi\\AppData\\Local\\Temp\\ipykernel_3208\\1068273149.py:60: UserWarning: Boolean Series key will be reindexed to match DataFrame index.\n",
      "  filtered_df = filtered_df[condition]\n"
     ]
    }
   ],
   "source": [
    "import torch\n",
    "import pandas as pd\n",
    "from transformers import GPT2LMHeadModel, GPT2Tokenizer\n",
    "\n",
    "# Load the fine-tuned model and tokenizer\n",
    "model_name = \"./fine-tuned-model\"\n",
    "model = GPT2LMHeadModel.from_pretrained(model_name)\n",
    "tokenizer = GPT2Tokenizer.from_pretrained(model_name)\n",
    "\n",
    "# Set the device to GPU if available\n",
    "device = torch.device(\"cuda\" if torch.cuda.is_available() else \"cpu\")\n",
    "model.to(device)\n",
    "\n",
    "# Load your dataset into a pandas DataFrame (replace this with your actual data loading)\n",
    "# For example, assuming you have a CSV file 'your_dataset.csv'\n",
    "dataset_path = 'LLM-Sample-Input-File(upd).csv'\n",
    "df = pd.read_csv(dataset_path)\n",
    "\n",
    "def generate_response(question, df, filter_attributes=None, generated_sequence=None):\n",
    "    # Tokenize the input question\n",
    "    input_ids = tokenizer.encode(question, return_tensors=\"pt\").to(device)\n",
    "\n",
    "    # Generate a response\n",
    "    output = model.generate(\n",
    "        input_ids,\n",
    "        max_length=50,\n",
    "        num_beams=5,\n",
    "        no_repeat_ngram_size=2,\n",
    "        top_k=50,\n",
    "        top_p=0.95,\n",
    "        temperature=0.7\n",
    "    )\n",
    "\n",
    "    # Decode the generated output\n",
    "    generated_sequence = tokenizer.decode(output[0], skip_special_tokens=True)\n",
    "\n",
    "    # Extract the number from the generated sequence using your logic\n",
    "    generated_number = extract_number(generated_sequence, df, question, filter_attributes)\n",
    "\n",
    "    return generated_number\n",
    "\n",
    "def extract_number(generated_sequence, df, question, filter_attributes=None):\n",
    "    # Default conditions (e.g., quarter and year)\n",
    "    conditions = [df['Period'] == '2022 Q2']\n",
    "\n",
    "    # Additional conditions based on the question style\n",
    "    if 'Potato Inc.' in question:\n",
    "        conditions.append(df['Company Name'] == 'Potato Inc.')\n",
    "    # Add more conditions based on other entities in your dataset\n",
    "\n",
    "    # Additional conditions based on specified filter attributes\n",
    "    if filter_attributes:\n",
    "        for attribute, value in filter_attributes.items():\n",
    "            # Assuming the attribute is present in the DataFrame\n",
    "            conditions.append(df[attribute] == value)\n",
    "\n",
    "    # Apply conditions to filter the DataFrame\n",
    "    filtered_df = df\n",
    "    for condition in conditions:\n",
    "        filtered_df = filtered_df[condition]\n",
    "\n",
    "    # Extract the specific number from the filtered DataFrame\n",
    "    # This assumes 'Value - Randomized' is the column containing the desired numbers\n",
    "    number = filtered_df[' Value - Randomized '].values[0] if not filtered_df.empty else None\n",
    "\n",
    "    return number\n",
    "\n",
    "# Example query\n",
    "question = \"What is the revenue in quarter 2 of year 2022 for Potato Inc. in Tablets?\"\n",
    "filter_attributes = {'Category': 'Revenue By Product', 'Sub Cat': 'Tablets'}\n",
    "generated_sequence = {'Category': 'Revenue By Product', 'Sub Cat': 'Tablets'}\n",
    "response = generate_response(question, df, filter_attributes, generated_sequence)\n",
    "print(response)"
   ]
  },
  {
   "cell_type": "code",
   "execution_count": null,
   "id": "73495119",
   "metadata": {},
   "outputs": [],
   "source": []
  }
 ],
 "metadata": {
  "kernelspec": {
   "display_name": "Python 3 (ipykernel)",
   "language": "python",
   "name": "python3"
  },
  "language_info": {
   "codemirror_mode": {
    "name": "ipython",
    "version": 3
   },
   "file_extension": ".py",
   "mimetype": "text/x-python",
   "name": "python",
   "nbconvert_exporter": "python",
   "pygments_lexer": "ipython3",
   "version": "3.10.9"
  }
 },
 "nbformat": 4,
 "nbformat_minor": 5
}
